{
 "cells": [
  {
   "cell_type": "markdown",
   "id": "f9206220-1083-4a52-8381-e75789fd59d8",
   "metadata": {
    "jp-MarkdownHeadingCollapsed": true,
    "tags": []
   },
   "source": [
    "<img src=\"https://arquitectura.medellin.unal.edu.co/images/PNG_LOGOSIMBOLO-CENTRAL-NEGRO-02.png\" width=\"100\" height=\"100\" />  "
   ]
  },
  {
   "cell_type": "markdown",
   "id": "22d619c9-27c6-46fc-bc1b-6b4b8dd88ea4",
   "metadata": {
    "tags": []
   },
   "source": [
    "# Primera avance proyecto IA\n",
    "## Integrantes \n",
    "### Daniel Felipe Bohorquez Calderon\n",
    "- C.C 1006125235\n",
    "- Estadística\n",
    "### Juan Sebastian Huertas Pirajan\n",
    "- C.C 1000456350\n",
    "- Estadística"
   ]
  },
  {
   "cell_type": "markdown",
   "id": "7edb7ffe-b802-49cb-bced-1f989ccbd7eb",
   "metadata": {},
   "source": [
    "## Objetivo Inicial\n",
    "Crear un bot psicoterapeuta por medio de la inteligencia artificial, que con ayuda de técnicas se pueda realizar un diagnóstico general de la patología que aqueja al paciente. Además, de generar posibles soluciones que puedan llegar a ser útiles para el usuario."
   ]
  },
  {
   "cell_type": "markdown",
   "id": "bd88aacb-9d4b-4f60-a7f9-964bafc56c4d",
   "metadata": {},
   "source": [
    "## Objetivos específicos\n",
    "- Interactuar con el usuario mediante chat.\n",
    "- Dar soluciones personalizadas para cada caso."
   ]
  },
  {
   "cell_type": "markdown",
   "id": "6f783226-ff8b-4407-a58f-e3981ec8734e",
   "metadata": {},
   "source": [
    "## Problema \n",
    "Actualmente el mundo presenta un continuo crecimiento en la inestabilidad emocional y deterioro respecto a la  salud mental de la población general ,especialmente después de lo sucedido en la pandemia por COVID-19. En consecuencia, estadisticas relacionadas al suicidio y otras cuestiones de indole psicologico y psiquiátrico han ido en aumento, llevando a su vez que la problematica se halla intensificado , situacion que es mas evidente en colectivos jovenes. \n",
    "\n",
    "Conforme a lo anteriormente mencionado, se decidió realizar un chatbot que estuviera dirigido a identificar y diagnosticar a estas poblaciones de una manera más personal y eficiente, logrando que por medio de una base de datos relacionada con consultas de psicoanálisis, el usuario pueda obtener información al usar la aplicación y con esto tenga la posibilidad de actuar diferente y posiblemente tener un manejo más consciente de su situación."
   ]
  },
  {
   "cell_type": "markdown",
   "id": "76ea8e38-c41f-48c2-a1ff-02f6ee733a52",
   "metadata": {},
   "source": [
    "## Datos\n",
    "Inicialmente, contamos con una base de datos de entrenamiento que reúne diálogos con expertos y clientes potenciales, en donde los terapeutas responden a las preguntas planteadas por los clientes, y los usuarios pueden dar me gusta a las respuestas que les resulten más útiles, el sitio se llama [Counselchat.com](https://counselchat.com/).\n",
    "Un entusiasta  Nicolas Bertagnolli en el procesamiento del lenguaje natural solicito los datos a los creadores y dueños de la página en cuestión y esté construyó una base de datos, con los diálogos y respuestas de las interacciones entre los terapeutas y pacientes, cabe recalcar que los terapeutas son verificados como expertos en el tema, la base de datos consta de 31 temas de conversaciones, desde la depresión hasta traumas militares. \n",
    "Nicolas nos brinda la base de datos en su [github](https://github.com/nbertagnolli/counsel-chat/tree/master/data)."
   ]
  },
  {
   "cell_type": "markdown",
   "id": "02547d1d-b85d-4d74-86dd-8c57aae004a6",
   "metadata": {},
   "source": [
    "## Herramientas básicas que se van a usar\n",
    "- python\n",
    "- R\n",
    "- jupyter lab\n",
    "- git hub"
   ]
  },
  {
   "cell_type": "markdown",
   "id": "ea79228f-bd54-4172-b058-a5c4414c255c",
   "metadata": {},
   "source": [
    "## Herramientas IA\n",
    "- TensorFlow\n",
    "- Pytorch\n",
    "- Gensim\n",
    "- NLTK\n",
    "- Spacy\n",
    "- Stanza\n",
    "- OpenAI Gym"
   ]
  }
 ],
 "metadata": {
  "kernelspec": {
   "display_name": "Python 3 (ipykernel)",
   "language": "python",
   "name": "python3"
  },
  "language_info": {
   "codemirror_mode": {
    "name": "ipython",
    "version": 3
   },
   "file_extension": ".py",
   "mimetype": "text/x-python",
   "name": "python",
   "nbconvert_exporter": "python",
   "pygments_lexer": "ipython3",
   "version": "3.8.16"
  }
 },
 "nbformat": 4,
 "nbformat_minor": 5
}
